{
 "cells": [
  {
   "cell_type": "code",
   "execution_count": 2,
   "metadata": {
    "collapsed": false
   },
   "outputs": [
    {
     "name": "stdout",
     "output_type": "stream",
     "text": [
      "h\n"
     ]
    }
   ],
   "source": [
    "print \"h\""
   ]
  },
  {
   "cell_type": "code",
   "execution_count": 112,
   "metadata": {
    "collapsed": false
   },
   "outputs": [
    {
     "ename": "IOError",
     "evalue": "[Errno 2] No such file or directory: 'numbers1.txt'",
     "output_type": "error",
     "traceback": [
      "\u001b[0;31m---------------------------------------------------------------------------\u001b[0m",
      "\u001b[0;31mIOError\u001b[0m                                   Traceback (most recent call last)",
      "\u001b[0;32m<ipython-input-112-074655b55ec8>\u001b[0m in \u001b[0;36m<module>\u001b[0;34m()\u001b[0m\n\u001b[1;32m      3\u001b[0m \u001b[0;34m\u001b[0m\u001b[0m\n\u001b[1;32m      4\u001b[0m \u001b[0mfilename\u001b[0m\u001b[0;34m=\u001b[0m\u001b[0;34m'numbers1.txt'\u001b[0m\u001b[0;34m\u001b[0m\u001b[0m\n\u001b[0;32m----> 5\u001b[0;31m \u001b[0mmeas\u001b[0m\u001b[0;34m=\u001b[0m\u001b[0mnp\u001b[0m\u001b[0;34m.\u001b[0m\u001b[0mloadtxt\u001b[0m\u001b[0;34m(\u001b[0m\u001b[0mfilename\u001b[0m\u001b[0;34m)\u001b[0m\u001b[0;34m\u001b[0m\u001b[0m\n\u001b[0m\u001b[1;32m      6\u001b[0m \u001b[0;34m\u001b[0m\u001b[0m\n\u001b[1;32m      7\u001b[0m \u001b[0;32mprint\u001b[0m \u001b[0mmeas\u001b[0m\u001b[0;34m\u001b[0m\u001b[0m\n",
      "\u001b[0;32m//anaconda/lib/python2.7/site-packages/numpy/lib/npyio.pyc\u001b[0m in \u001b[0;36mloadtxt\u001b[0;34m(fname, dtype, comments, delimiter, converters, skiprows, usecols, unpack, ndmin)\u001b[0m\n\u001b[1;32m    735\u001b[0m                 \u001b[0mfh\u001b[0m \u001b[0;34m=\u001b[0m \u001b[0miter\u001b[0m\u001b[0;34m(\u001b[0m\u001b[0mbz2\u001b[0m\u001b[0;34m.\u001b[0m\u001b[0mBZ2File\u001b[0m\u001b[0;34m(\u001b[0m\u001b[0mfname\u001b[0m\u001b[0;34m)\u001b[0m\u001b[0;34m)\u001b[0m\u001b[0;34m\u001b[0m\u001b[0m\n\u001b[1;32m    736\u001b[0m             \u001b[0;32melif\u001b[0m \u001b[0msys\u001b[0m\u001b[0;34m.\u001b[0m\u001b[0mversion_info\u001b[0m\u001b[0;34m[\u001b[0m\u001b[0;36m0\u001b[0m\u001b[0;34m]\u001b[0m \u001b[0;34m==\u001b[0m \u001b[0;36m2\u001b[0m\u001b[0;34m:\u001b[0m\u001b[0;34m\u001b[0m\u001b[0m\n\u001b[0;32m--> 737\u001b[0;31m                 \u001b[0mfh\u001b[0m \u001b[0;34m=\u001b[0m \u001b[0miter\u001b[0m\u001b[0;34m(\u001b[0m\u001b[0mopen\u001b[0m\u001b[0;34m(\u001b[0m\u001b[0mfname\u001b[0m\u001b[0;34m,\u001b[0m \u001b[0;34m'U'\u001b[0m\u001b[0;34m)\u001b[0m\u001b[0;34m)\u001b[0m\u001b[0;34m\u001b[0m\u001b[0m\n\u001b[0m\u001b[1;32m    738\u001b[0m             \u001b[0;32melse\u001b[0m\u001b[0;34m:\u001b[0m\u001b[0;34m\u001b[0m\u001b[0m\n\u001b[1;32m    739\u001b[0m                 \u001b[0mfh\u001b[0m \u001b[0;34m=\u001b[0m \u001b[0miter\u001b[0m\u001b[0;34m(\u001b[0m\u001b[0mopen\u001b[0m\u001b[0;34m(\u001b[0m\u001b[0mfname\u001b[0m\u001b[0;34m)\u001b[0m\u001b[0;34m)\u001b[0m\u001b[0;34m\u001b[0m\u001b[0m\n",
      "\u001b[0;31mIOError\u001b[0m: [Errno 2] No such file or directory: 'numbers1.txt'"
     ]
    }
   ],
   "source": [
    "import os\n",
    "import numpy as np\n",
    "\n",
    "filename='numbers1.txt'\n",
    "meas=np.loadtxt(filename)\n",
    "\n",
    "print meas\n",
    "print meas.ndim\n",
    "print meas.shape"
   ]
  },
  {
   "cell_type": "code",
   "execution_count": 19,
   "metadata": {
    "collapsed": false
   },
   "outputs": [
    {
     "name": "stdout",
     "output_type": "stream",
     "text": [
      "[ 4.  5.]\n",
      "[ 8.  9.]\n"
     ]
    }
   ],
   "source": [
    "time = meas[:,0]\n",
    "print time\n",
    "\n",
    "temperature =meas[:,1]\n",
    "print temperature\n",
    "\n"
   ]
  },
  {
   "cell_type": "code",
   "execution_count": 28,
   "metadata": {
    "collapsed": false
   },
   "outputs": [
    {
     "data": {
      "text/plain": [
       "<matplotlib.legend.Legend at 0x1066e1f50>"
      ]
     },
     "execution_count": 28,
     "metadata": {},
     "output_type": "execute_result"
    },
    {
     "data": {
      "image/png": "[encoded data removed]",
      "text/plain": [
       "<matplotlib.figure.Figure at 0x1062acfd0>"
      ]
     },
     "metadata": {},
     "output_type": "display_data"
    }
   ],
   "source": [
    "%matplotlib inline\n",
    "\n",
    "import pylab as plt\n",
    "\n",
    "plt.plot(time,temperature,'or',label=\"meas\")\n",
    "plt.xlim(3,6)\n",
    "plt.ylim(7,10)\n",
    "plt.xlabel(\"Time\")\n",
    "plt.ylabel(\"Temperature\")\n",
    "plt.legend(loc=1,ncol=1,numpoints=1)"
   ]
  },
  {
   "cell_type": "code",
   "execution_count": 49,
   "metadata": {
    "collapsed": false
   },
   "outputs": [
    {
     "ename": "SyntaxError",
     "evalue": "invalid syntax (<ipython-input-49-2028c641ae21>, line 1)",
     "output_type": "error",
     "traceback": [
      "\u001b[0;36m  File \u001b[0;32m\"<ipython-input-49-2028c641ae21>\"\u001b[0;36m, line \u001b[0;32m1\u001b[0m\n\u001b[0;31m    np.linspace()?\u001b[0m\n\u001b[0m                 ^\u001b[0m\n\u001b[0;31mSyntaxError\u001b[0m\u001b[0;31m:\u001b[0m invalid syntax\n"
     ]
    }
   ],
   "source": [
    "np.linspace()?"
   ]
  },
  {
   "cell_type": "code",
   "execution_count": 113,
   "metadata": {
    "collapsed": false
   },
   "outputs": [
    {
     "data": {
      "image/png": "[encoded data removed]",
      "text/plain": [
       "<matplotlib.figure.Figure at 0x109b0c590>"
      ]
     },
     "metadata": {},
     "output_type": "display_data"
    }
   ],
   "source": [
    "import random \n",
    "\n",
    "data=[]\n",
    "ndatapts =10000\n",
    "\n",
    "for i in range (0,ndatapts):\n",
    "    data.append(np.random.normal())\n",
    "\n",
    "plt.hist(data,bins=10)\n",
    "plt.title(\"Drawing Samples From A Gaussian Distribution\")\n",
    "plt.show()"
   ]
  },
  {
   "cell_type": "code",
   "execution_count": 107,
   "metadata": {
    "collapsed": false
   },
   "outputs": [
    {
     "name": "stdout",
     "output_type": "stream",
     "text": [
      "10000\n",
      "[  2   2   0   1   1   4   1   4   3   7   2   2  13   5  14  15  18  15\n",
      "  31  31  37  30  52  47  44  65  66  93  80  88 120 124 160 148 163 175\n",
      " 152 160 199 195 228 228 247 249 259 254 254 304 276 276 274 273 255 274\n",
      " 309 278 283 262 218 221 216 189 169 190 159 154 147 124 117 120  96 111\n",
      "  83  69  67  58  54  37  38  32  39  19  26  18  12   8  15   8   6   5\n",
      "   2   5   6   2   0   2   3   1   0   2]\n",
      "[  1.99999995e-04   1.99999995e-04   0.00000000e+00   9.99999975e-05\n",
      "   9.99999975e-05   3.99999990e-04   9.99999975e-05   3.99999990e-04\n",
      "   3.00000014e-04   6.99999975e-04   1.99999995e-04   1.99999995e-04\n",
      "   1.30000000e-03   5.00000024e-04   1.39999995e-03   1.50000001e-03\n",
      "   1.79999997e-03   1.50000001e-03   3.10000009e-03   3.10000009e-03\n",
      "   3.70000000e-03   3.00000003e-03   5.20000001e-03   4.69999993e-03\n",
      "   4.39999998e-03   6.50000013e-03   6.59999996e-03   9.30000003e-03\n",
      "   8.00000038e-03   8.79999995e-03   1.20000001e-02   1.24000004e-02\n",
      "   1.60000008e-02   1.48000000e-02   1.63000003e-02   1.75000001e-02\n",
      "   1.52000003e-02   1.60000008e-02   1.98999997e-02   1.95000004e-02\n",
      "   2.28000004e-02   2.28000004e-02   2.47000009e-02   2.49000005e-02\n",
      "   2.59000007e-02   2.53999997e-02   2.53999997e-02   3.04000005e-02\n",
      "   2.75999997e-02   2.75999997e-02   2.74000000e-02   2.73000002e-02\n",
      "   2.54999995e-02   2.74000000e-02   3.08999997e-02   2.77999993e-02\n",
      "   2.83000004e-02   2.62000002e-02   2.18000002e-02   2.20999997e-02\n",
      "   2.16000006e-02   1.88999996e-02   1.68999992e-02   1.89999994e-02\n",
      "   1.59000009e-02   1.53999999e-02   1.47000002e-02   1.24000004e-02\n",
      "   1.16999997e-02   1.20000001e-02   9.60000046e-03   1.10999998e-02\n",
      "   8.29999987e-03   6.89999992e-03   6.69999979e-03   5.79999993e-03\n",
      "   5.40000014e-03   3.70000000e-03   3.80000006e-03   3.19999992e-03\n",
      "   3.89999989e-03   1.90000003e-03   2.60000001e-03   1.79999997e-03\n",
      "   1.20000006e-03   7.99999980e-04   1.50000001e-03   7.99999980e-04\n",
      "   6.00000028e-04   5.00000024e-04   1.99999995e-04   5.00000024e-04\n",
      "   6.00000028e-04   1.99999995e-04   0.00000000e+00   1.99999995e-04\n",
      "   3.00000014e-04   9.99999975e-05   0.00000000e+00   1.99999995e-04]\n",
      "[-3.59299641 -3.52164118 -3.45028595 -3.37893073 -3.3075755  -3.23622027\n",
      " -3.16486504 -3.09350981 -3.02215458 -2.95079936 -2.87944413 -2.8080889\n",
      " -2.73673367 -2.66537844 -2.59402322 -2.52266799 -2.45131276 -2.37995753\n",
      " -2.3086023  -2.23724708 -2.16589185 -2.09453662 -2.02318139 -1.95182616\n",
      " -1.88047093 -1.80911571 -1.73776048 -1.66640525 -1.59505002 -1.52369479\n",
      " -1.45233957 -1.38098434 -1.30962911 -1.23827388 -1.16691865 -1.09556343\n",
      " -1.0242082  -0.95285297 -0.88149774 -0.81014251 -0.73878728 -0.66743206\n",
      " -0.59607683 -0.5247216  -0.45336637 -0.38201114 -0.31065592 -0.23930069\n",
      " -0.16794546 -0.09659023 -0.025235    0.04612022  0.11747545  0.18883068\n",
      "  0.26018591  0.33154114  0.40289637  0.47425159  0.54560682  0.61696205\n",
      "  0.68831728  0.75967251  0.83102773  0.90238296  0.97373819  1.04509342\n",
      "  1.11644865  1.18780387  1.2591591   1.33051433  1.40186956  1.47322479\n",
      "  1.54458002  1.61593524  1.68729047  1.7586457   1.83000093  1.90135616\n",
      "  1.97271138  2.04406661  2.11542184  2.18677707  2.2581323   2.32948752\n",
      "  2.40084275  2.47219798  2.54355321  2.61490844  2.68626367  2.75761889\n",
      "  2.82897412  2.90032935  2.97168458  3.04303981  3.11439503  3.18575026\n",
      "  3.25710549  3.32846072  3.39981595  3.47117117  3.5425264 ]\n",
      "[-3.59299641 -3.52164118 -3.45028595 -3.37893073 -3.3075755  -3.23622027\n",
      " -3.16486504 -3.09350981 -3.02215458 -2.95079936 -2.87944413 -2.8080889\n",
      " -2.73673367 -2.66537844 -2.59402322 -2.52266799 -2.45131276 -2.37995753\n",
      " -2.3086023  -2.23724708 -2.16589185 -2.09453662 -2.02318139 -1.95182616\n",
      " -1.88047093 -1.80911571 -1.73776048 -1.66640525 -1.59505002 -1.52369479\n",
      " -1.45233957 -1.38098434 -1.30962911 -1.23827388 -1.16691865 -1.09556343\n",
      " -1.0242082  -0.95285297 -0.88149774 -0.81014251 -0.73878728 -0.66743206\n",
      " -0.59607683 -0.5247216  -0.45336637 -0.38201114 -0.31065592 -0.23930069\n",
      " -0.16794546 -0.09659023 -0.025235    0.04612022  0.11747545  0.18883068\n",
      "  0.26018591  0.33154114  0.40289637  0.47425159  0.54560682  0.61696205\n",
      "  0.68831728  0.75967251  0.83102773  0.90238296  0.97373819  1.04509342\n",
      "  1.11644865  1.18780387  1.2591591   1.33051433  1.40186956  1.47322479\n",
      "  1.54458002  1.61593524  1.68729047  1.7586457   1.83000093  1.90135616\n",
      "  1.97271138  2.04406661  2.11542184  2.18677707  2.2581323   2.32948752\n",
      "  2.40084275  2.47219798  2.54355321  2.61490844  2.68626367  2.75761889\n",
      "  2.82897412  2.90032935  2.97168458  3.04303981  3.11439503  3.18575026\n",
      "  3.25710549  3.32846072  3.39981595  3.47117117]\n",
      "[-3.5573188  -3.48596357 -3.41460834 -3.34325311 -3.27189788 -3.20054265\n",
      " -3.12918743 -3.0578322  -2.98647697 -2.91512174 -2.84376651 -2.77241129\n",
      " -2.70105606 -2.62970083 -2.5583456  -2.48699037 -2.41563515 -2.34427992\n",
      " -2.27292469 -2.20156946 -2.13021423 -2.058859   -1.98750378 -1.91614855\n",
      " -1.84479332 -1.77343809 -1.70208286 -1.63072764 -1.55937241 -1.48801718\n",
      " -1.41666195 -1.34530672 -1.2739515  -1.20259627 -1.13124104 -1.05988581\n",
      " -0.98853058 -0.91717535 -0.84582013 -0.7744649  -0.70310967 -0.63175444\n",
      " -0.56039921 -0.48904399 -0.41768876 -0.34633353 -0.2749783  -0.20362307\n",
      " -0.13226785 -0.06091262  0.01044261  0.08179784  0.15315307  0.2245083\n",
      "  0.29586352  0.36721875  0.43857398  0.50992921  0.58128444  0.65263966\n",
      "  0.72399489  0.79535012  0.86670535  0.93806058  1.0094158   1.08077103\n",
      "  1.15212626  1.22348149  1.29483672  1.36619195  1.43754717  1.5089024\n",
      "  1.58025763  1.65161286  1.72296809  1.79432331  1.86567854  1.93703377\n",
      "  2.008389    2.07974423  2.15109945  2.22245468  2.29380991  2.36516514\n",
      "  2.43652037  2.5078756   2.57923082  2.65058605  2.72194128  2.79329651\n",
      "  2.86465174  2.93600696  3.00736219  3.07871742  3.15007265  3.22142788\n",
      "  3.2927831   3.36413833  3.43549356  3.50684879]\n"
     ]
    },
    {
     "data": {
      "text/plain": [
       "<matplotlib.text.Text at 0x10b89ba90>"
      ]
     },
     "execution_count": 107,
     "metadata": {},
     "output_type": "execute_result"
    },
    {
     "data": {
      "image/png": "[encoded data removed]",
      "text/plain": [
       "<matplotlib.figure.Figure at 0x10bca3ad0>"
      ]
     },
     "metadata": {},
     "output_type": "display_data"
    }
   ],
   "source": [
    "nbins=100\n",
    "numbins,edges=np.histogram(data,bins=nbins)\n",
    "print np.sum(numbins)\n",
    "#print numbins\n",
    "numbins=np.array(numbins,dtype='f')/np.sum(numbins)\n",
    "#print numbins\n",
    "#print  edges\n",
    "#print edges[:-1]\n",
    "vals=edges[:-1]+(edges[1]-edges[0])/2\n",
    "print vals\n",
    "\n",
    "plt.errorbar(vals,numbins,np.sqrt(numbins))\n",
    "plt.xlabel(\"Value\")\n",
    "plt.ylabel(\"Number, binned\")\n"
   ]
  },
  {
   "cell_type": "code",
   "execution_count": 103,
   "metadata": {
    "collapsed": false
   },
   "outputs": [
    {
     "name": "stdout",
     "output_type": "stream",
     "text": [
      "Linspace() makes: [-3.         -2.93939394 -2.87878788 -2.81818182 -2.75757576 -2.6969697\n",
      " -2.63636364 -2.57575758 -2.51515152 -2.45454545]\n"
     ]
    },
    {
     "data": {
      "text/plain": [
       "<Container object of 3 artists>"
      ]
     },
     "execution_count": 103,
     "metadata": {},
     "output_type": "execute_result"
    },
    {
     "data": {
      "image/png": "[encoded data removed]",
      "text/plain": [
       "<matplotlib.figure.Figure at 0x10b777410>"
      ]
     },
     "metadata": {},
     "output_type": "display_data"
    }
   ],
   "source": [
    "def g(x,a,b,c):\n",
    "    return(a*np.exp(-((x-b)/c)**2))\n",
    "\n",
    "def gt(x,a,p):\n",
    "    return(a*(1/(1*np.sqrt(2*np.abs(p))))*np.exp(-((x-0)**2/(2*1**2))))\n",
    "\n",
    "xvals= np.linspace(-3,3,100)\n",
    "\n",
    "print \"Linspace() makes: \" +str(xvals[:10])\n",
    "\n",
    "plt.plot(xvals,g(xvals,.5,0,1))\n",
    "plt.plot(xvals,gt(xvals,1,3.14))\n",
    "plt.errorbar(vals,numbins,np.sqrt(numbins))"
   ]
  },
  {
   "cell_type": "code",
   "execution_count": 105,
   "metadata": {
    "collapsed": false
   },
   "outputs": [
    {
     "name": "stdout",
     "output_type": "stream",
     "text": [
      "What di curve_fit() find for g?\n",
      "Best fit paparmeters amplitude, mean value, and sigma[  4.30825127e+01  -2.47532736e-02   1.57889392e-01]\n",
      " and covariances:[[  8.35561607e+17  -1.82447267e+12  -2.99056299e+14]\n",
      " [ -1.82447267e+12   3.98378826e+06   6.52997983e+08]\n",
      " [ -2.99056299e+14   6.52997983e+08   1.07035399e+11]]\n",
      "What did curve_fit() find for gt?\n",
      "Best fit paparmeters amplitude, mean value, and sigma[ 0.82943218  4.37970656]\n",
      " and covariances:[[  1.10847179e+11   1.17098795e+12]\n",
      " [  1.17098795e+12   1.23702992e+13]]\n"
     ]
    },
    {
     "ename": "TypeError",
     "evalue": "cannot concatenate 'str' and 'numpy.ndarray' objects",
     "output_type": "error",
     "traceback": [
      "\u001b[0;31m---------------------------------------------------------------------------\u001b[0m",
      "\u001b[0;31mTypeError\u001b[0m                                 Traceback (most recent call last)",
      "\u001b[0;32m<ipython-input-105-ae970b0c7d4b>\u001b[0m in \u001b[0;36m<module>\u001b[0;34m()\u001b[0m\n\u001b[1;32m     11\u001b[0m \u001b[0;32mprint\u001b[0m \u001b[0;34m\"Best fit paparmeters amplitude, mean value, and sigma\"\u001b[0m \u001b[0;34m+\u001b[0m\u001b[0mstr\u001b[0m\u001b[0;34m(\u001b[0m\u001b[0mtpars\u001b[0m\u001b[0;34m)\u001b[0m\u001b[0;34m\u001b[0m\u001b[0m\n\u001b[1;32m     12\u001b[0m \u001b[0;32mprint\u001b[0m \u001b[0;34m\" and covariances:\"\u001b[0m \u001b[0;34m+\u001b[0m\u001b[0mstr\u001b[0m\u001b[0;34m(\u001b[0m\u001b[0mtcovar\u001b[0m\u001b[0;34m)\u001b[0m\u001b[0;34m\u001b[0m\u001b[0m\n\u001b[0;32m---> 13\u001b[0;31m \u001b[0;32mprint\u001b[0m \u001b[0;34m\"sd is \"\u001b[0m\u001b[0;34m+\u001b[0m\u001b[0mnp\u001b[0m\u001b[0;34m.\u001b[0m\u001b[0msqrt\u001b[0m\u001b[0;34m(\u001b[0m\u001b[0mnp\u001b[0m\u001b[0;34m.\u001b[0m\u001b[0mdiag\u001b[0m\u001b[0;34m(\u001b[0m\u001b[0mtcovar\u001b[0m\u001b[0;34m)\u001b[0m\u001b[0;34m)\u001b[0m\u001b[0;34m\u001b[0m\u001b[0m\n\u001b[0m",
      "\u001b[0;31mTypeError\u001b[0m: cannot concatenate 'str' and 'numpy.ndarray' objects"
     ]
    }
   ],
   "source": [
    "from scipy.optimize import curve_fit\n",
    "\n",
    "pars, covar=curve_fit(g,vals,numbins,p0=[20,0,.13])\n",
    "tpars, tcovar=curve_fit(gt,vals,numbins,p0=[1,3.14])\n",
    "\n",
    "print \"What di curve_fit() find for g?\"\n",
    "print \"Best fit paparmeters amplitude, mean value, and sigma\" +str(pars)\n",
    "print \" and covariances:\" +str(covar)\n",
    "\n",
    "print \"What did curve_fit() find for gt?\"\n",
    "print \"Best fit paparmeters amplitude, mean value, and sigma\" +str(tpars)\n",
    "print \" and covariances:\" +str(tcovar)\n",
    "#print \"sd is \"+np.sqrt(np.diag(tcovar))"
   ]
  },
  {
   "cell_type": "code",
   "execution_count": 106,
   "metadata": {
    "collapsed": false
   },
   "outputs": [
    {
     "name": "stderr",
     "output_type": "stream",
     "text": [
      "/anaconda/lib/python2.7/site-packages/ipykernel/__main__.py:6: RuntimeWarning: invalid value encountered in sqrt\n"
     ]
    },
    {
     "ename": "IndexError",
     "evalue": "index 2 is out of bounds for axis 0 with size 2",
     "output_type": "error",
     "traceback": [
      "\u001b[0;31m---------------------------------------------------------------------------\u001b[0m",
      "\u001b[0;31mIndexError\u001b[0m                                Traceback (most recent call last)",
      "\u001b[0;32m<ipython-input-106-4303baa570f2>\u001b[0m in \u001b[0;36m<module>\u001b[0;34m()\u001b[0m\n\u001b[1;32m      6\u001b[0m \u001b[0mplt\u001b[0m\u001b[0;34m.\u001b[0m\u001b[0mplot\u001b[0m\u001b[0;34m(\u001b[0m\u001b[0mx\u001b[0m\u001b[0;34m,\u001b[0m\u001b[0mg\u001b[0m\u001b[0;34m(\u001b[0m\u001b[0mx\u001b[0m\u001b[0;34m,\u001b[0m\u001b[0;34m*\u001b[0m\u001b[0mpars\u001b[0m\u001b[0;34m)\u001b[0m\u001b[0;34m,\u001b[0m\u001b[0mlw\u001b[0m\u001b[0;34m=\u001b[0m\u001b[0;34m'4'\u001b[0m\u001b[0;34m,\u001b[0m\u001b[0malpha\u001b[0m\u001b[0;34m=\u001b[0m\u001b[0;36m.5\u001b[0m\u001b[0;34m,\u001b[0m \u001b[0mlabel\u001b[0m\u001b[0;34m=\u001b[0m\u001b[0;34m'Gaussian fit\\n center='\u001b[0m\u001b[0;34m+\u001b[0m\u001b[0mstr\u001b[0m\u001b[0;34m(\u001b[0m\u001b[0mpars\u001b[0m\u001b[0;34m[\u001b[0m\u001b[0;36m1\u001b[0m\u001b[0;34m]\u001b[0m\u001b[0;34m)\u001b[0m\u001b[0;34m[\u001b[0m\u001b[0;34m:\u001b[0m\u001b[0;36m4\u001b[0m\u001b[0;34m]\u001b[0m\u001b[0;34m+\u001b[0m\u001b[0;34m'$\\\\pm$ '\u001b[0m\u001b[0;34m+\u001b[0m\u001b[0mstr\u001b[0m\u001b[0;34m(\u001b[0m\u001b[0mnp\u001b[0m\u001b[0;34m.\u001b[0m\u001b[0msqrt\u001b[0m\u001b[0;34m(\u001b[0m\u001b[0mcovar\u001b[0m\u001b[0;34m[\u001b[0m\u001b[0;36m1\u001b[0m\u001b[0;34m]\u001b[0m\u001b[0;34m)\u001b[0m\u001b[0;34m)\u001b[0m\u001b[0;34m[\u001b[0m\u001b[0;34m:\u001b[0m\u001b[0;36m3\u001b[0m\u001b[0;34m]\u001b[0m\u001b[0;34m+\u001b[0m\u001b[0;34m'\\n width='\u001b[0m\u001b[0;34m+\u001b[0m\u001b[0mstr\u001b[0m\u001b[0;34m(\u001b[0m\u001b[0mpars\u001b[0m\u001b[0;34m[\u001b[0m\u001b[0;36m2\u001b[0m\u001b[0;34m]\u001b[0m\u001b[0;34m)\u001b[0m\u001b[0;34m[\u001b[0m\u001b[0;36m4\u001b[0m\u001b[0;34m:\u001b[0m\u001b[0;34m]\u001b[0m\u001b[0;34m+\u001b[0m\u001b[0;34m'$\\\\pm$'\u001b[0m\u001b[0;34m+\u001b[0m\u001b[0mstr\u001b[0m\u001b[0;34m(\u001b[0m\u001b[0mnp\u001b[0m\u001b[0;34m.\u001b[0m\u001b[0msqrt\u001b[0m\u001b[0;34m(\u001b[0m\u001b[0mcovar\u001b[0m\u001b[0;34m[\u001b[0m\u001b[0;36m2\u001b[0m\u001b[0;34m,\u001b[0m\u001b[0;36m2\u001b[0m\u001b[0;34m]\u001b[0m\u001b[0;34m)\u001b[0m\u001b[0;34m)\u001b[0m\u001b[0;34m[\u001b[0m\u001b[0;34m:\u001b[0m\u001b[0;36m4\u001b[0m\u001b[0;34m]\u001b[0m\u001b[0;34m)\u001b[0m\u001b[0;34m\u001b[0m\u001b[0m\n\u001b[1;32m      7\u001b[0m \u001b[0mplt\u001b[0m\u001b[0;34m.\u001b[0m\u001b[0mlegend\u001b[0m\u001b[0;34m(\u001b[0m\u001b[0;34m)\u001b[0m\u001b[0;34m\u001b[0m\u001b[0m\n\u001b[0;32m----> 8\u001b[0;31m \u001b[0mplt\u001b[0m\u001b[0;34m.\u001b[0m\u001b[0mplot\u001b[0m\u001b[0;34m(\u001b[0m\u001b[0mx\u001b[0m\u001b[0;34m,\u001b[0m\u001b[0mgt\u001b[0m\u001b[0;34m(\u001b[0m\u001b[0mx\u001b[0m\u001b[0;34m,\u001b[0m\u001b[0;34m*\u001b[0m\u001b[0mtpars\u001b[0m\u001b[0;34m)\u001b[0m\u001b[0;34m,\u001b[0m\u001b[0mlw\u001b[0m\u001b[0;34m=\u001b[0m\u001b[0;34m'4'\u001b[0m\u001b[0;34m,\u001b[0m\u001b[0malpha\u001b[0m\u001b[0;34m=\u001b[0m\u001b[0;36m.5\u001b[0m\u001b[0;34m,\u001b[0m \u001b[0mlabel\u001b[0m\u001b[0;34m=\u001b[0m\u001b[0;34m'Real Gaussian fit\\n center='\u001b[0m\u001b[0;34m+\u001b[0m\u001b[0mstr\u001b[0m\u001b[0;34m(\u001b[0m\u001b[0mtpars\u001b[0m\u001b[0;34m[\u001b[0m\u001b[0;36m1\u001b[0m\u001b[0;34m]\u001b[0m\u001b[0;34m)\u001b[0m\u001b[0;34m[\u001b[0m\u001b[0;34m:\u001b[0m\u001b[0;36m4\u001b[0m\u001b[0;34m]\u001b[0m\u001b[0;34m+\u001b[0m\u001b[0;34m'$\\\\pm$ '\u001b[0m\u001b[0;34m+\u001b[0m\u001b[0mstr\u001b[0m\u001b[0;34m(\u001b[0m\u001b[0mnp\u001b[0m\u001b[0;34m.\u001b[0m\u001b[0msqrt\u001b[0m\u001b[0;34m(\u001b[0m\u001b[0mtcovar\u001b[0m\u001b[0;34m[\u001b[0m\u001b[0;36m1\u001b[0m\u001b[0;34m]\u001b[0m\u001b[0;34m)\u001b[0m\u001b[0;34m)\u001b[0m\u001b[0;34m[\u001b[0m\u001b[0;34m:\u001b[0m\u001b[0;36m3\u001b[0m\u001b[0;34m]\u001b[0m\u001b[0;34m+\u001b[0m\u001b[0;34m'\\n width='\u001b[0m\u001b[0;34m+\u001b[0m\u001b[0mstr\u001b[0m\u001b[0;34m(\u001b[0m\u001b[0mtpars\u001b[0m\u001b[0;34m[\u001b[0m\u001b[0;36m2\u001b[0m\u001b[0;34m]\u001b[0m\u001b[0;34m)\u001b[0m\u001b[0;34m[\u001b[0m\u001b[0;36m4\u001b[0m\u001b[0;34m:\u001b[0m\u001b[0;34m]\u001b[0m\u001b[0;34m+\u001b[0m\u001b[0;34m'$\\\\pm$'\u001b[0m\u001b[0;34m+\u001b[0m\u001b[0mstr\u001b[0m\u001b[0;34m(\u001b[0m\u001b[0mnp\u001b[0m\u001b[0;34m.\u001b[0m\u001b[0msqrt\u001b[0m\u001b[0;34m(\u001b[0m\u001b[0mcovar\u001b[0m\u001b[0;34m[\u001b[0m\u001b[0;36m2\u001b[0m\u001b[0;34m,\u001b[0m\u001b[0;36m2\u001b[0m\u001b[0;34m]\u001b[0m\u001b[0;34m)\u001b[0m\u001b[0;34m)\u001b[0m\u001b[0;34m[\u001b[0m\u001b[0;34m:\u001b[0m\u001b[0;36m4\u001b[0m\u001b[0;34m]\u001b[0m\u001b[0;34m)\u001b[0m\u001b[0;34m\u001b[0m\u001b[0m\n\u001b[0m\u001b[1;32m      9\u001b[0m \u001b[0mplt\u001b[0m\u001b[0;34m.\u001b[0m\u001b[0mlegend\u001b[0m\u001b[0;34m(\u001b[0m\u001b[0;34m)\u001b[0m\u001b[0;34m\u001b[0m\u001b[0m\n",
      "\u001b[0;31mIndexError\u001b[0m: index 2 is out of bounds for axis 0 with size 2"
     ]
    },
    {
     "data": {
      "image/png": "[encoded data removed]",
      "text/plain": [
       "<matplotlib.figure.Figure at 0x10b76d610>"
      ]
     },
     "metadata": {},
     "output_type": "display_data"
    }
   ],
   "source": [
    "plt.figure(figsize=(12,5))\n",
    "\n",
    "plt.hist(data,bins=nbins,color='r',alpha=.5,label=\"Sample Data\")\n",
    "x=np.linspace(min(vals)-.3,max(vals)+.3,100)\n",
    "\n",
    "plt.plot(x,g(x,*pars),lw='4',alpha=.5, label='Gaussian fit\\n center='+str(pars[1])[:4]+'$\\\\pm$ '+str(np.sqrt(covar[1]))[:3]+'\\n width='+str(pars[2])[4:]+'$\\\\pm$'+str(np.sqrt(covar[2,2]))[:4])\n",
    "plt.legend()\n",
    "plt.plot(x,gt(x,*tpars),lw='4',alpha=.5, label='Real Gaussian fit\\n center='+str(tpars[1])[:4]+'$\\\\pm$ '+str(np.sqrt(tcovar[1]))[:3]+'\\n width='+str(tpars[2])[4:]+'$\\\\pm$'+str(np.sqrt(covar[2,2]))[:4])\n",
    "plt.legend()"
   ]
  },
  {
   "cell_type": "code",
   "execution_count": null,
   "metadata": {
    "collapsed": true
   },
   "outputs": [],
   "source": []
  }
 ],
 "metadata": {
  "kernelspec": {
   "display_name": "Python 2",
   "language": "python",
   "name": "python2"
  },
  "language_info": {
   "codemirror_mode": {
    "name": "ipython",
    "version": 2
   },
   "file_extension": ".py",
   "mimetype": "text/x-python",
   "name": "python",
   "nbconvert_exporter": "python",
   "pygments_lexer": "ipython2",
   "version": "2.7.11"
  }
 },
 "nbformat": 4,
 "nbformat_minor": 0
}
